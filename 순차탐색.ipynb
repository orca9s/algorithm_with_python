{
 "cells": [
  {
   "cell_type": "code",
   "execution_count": 4,
   "metadata": {},
   "outputs": [
    {
     "name": "stdout",
     "output_type": "stream",
     "text": [
      "0\n",
      "4\n",
      "-1\n"
     ]
    }
   ],
   "source": [
    "# 리스트에서 특정 숫자의 위치 찾기\n",
    "# 입력: 리스트 a, 찾는 값x\n",
    "# 출력: 찾으면 그 값의 위치, 찾지 못하면 -1\n",
    "\n",
    "def search_list(a, x):\n",
    "    n = len(a)\n",
    "    for i in range(0, n):\n",
    "        if x == a[i]:\n",
    "            return i\n",
    "    return -1\n",
    "\n",
    "v = [17, 92, 18, 33, 58, 7, 33, 42]\n",
    "print(search_list(v, 17))\n",
    "print(search_list(v, 58))\n",
    "print(search_list(v, 900))"
   ]
  },
  {
   "cell_type": "code",
   "execution_count": 8,
   "metadata": {},
   "outputs": [
    {
     "name": "stdout",
     "output_type": "stream",
     "text": [
      "[3, 6]\n",
      "[0]\n",
      "[]\n"
     ]
    }
   ],
   "source": [
    "# 리스트에서 특정 숫자의 위치를 전부 찾기\n",
    "# 입력: 리스트 a, 찾는 값 x\n",
    "# 출력: 찾는 값의 위치 번호가 담긴 리스트, 찾는 값이 없으면 빈 리스트 []\n",
    "\n",
    "def search_list(a, x):\n",
    "    n = len(a) # 입력 크기 n\n",
    "    result = [] # 새 리스트를 만들어 결과값을 저장\n",
    "    for i in range(0, n): # 리스트 a의 모든 값을 차례대로\n",
    "        if x == a[i]: # x값과 비교하여\n",
    "            result.append(i) # 같으면 위치 번호를 결과 리스트에 추가\n",
    "    return result # 만들어진 결과 리스트를 돌려줌\n",
    "\n",
    "v = [17, 92, 18, 33, 58, 7, 33, 42]\n",
    "print(search_list(v, 33)) # 3과 6을 출력\n",
    "print(search_list(v, 17)) # 0을출력\n",
    "print(search_list(v, 900)) # 빈 리스트를 출력"
   ]
  },
  {
   "cell_type": "code",
   "execution_count": 12,
   "metadata": {},
   "outputs": [
    {
     "name": "stdout",
     "output_type": "stream",
     "text": [
      "Summer\n",
      "?\n"
     ]
    }
   ],
   "source": [
    "# 학생 번호에 해당하는 학생 이름 찾기\n",
    "# 입력: 학생 해당 번호 리스트 s_no, 학생 이름 리스트 s_name, 찾는 학생 번호 find_no\n",
    "# 출력: 해당하는 학생이름, 해당하는 학생 이름이 없으면 물음표\n",
    "\n",
    "def get_name(s_no, s_name, find_no):\n",
    "    n = len(s_no) # 입력 크기 n\n",
    "    for i in range(0, n):\n",
    "        if find_no == s_no[i]: # 학생 번호가 찾는 학생 번호와 같으면\n",
    "            return s_name[i] # 해당하는 학생 이름을 결과로 반환\n",
    "        \n",
    "    return '?' # 자료를 다 뒤져서 못 찾았으면 물음표 반환\n",
    "\n",
    "sample_no = [39, 14, 67, 105]\n",
    "sample_name = ['Justin', 'John', 'Mike', 'Summer']\n",
    "\n",
    "print(get_name(sample_no, sample_name, 105))\n",
    "print(get_name(sample_no, sample_name, 999))"
   ]
  },
  {
   "cell_type": "code",
   "execution_count": null,
   "metadata": {},
   "outputs": [],
   "source": []
  }
 ],
 "metadata": {
  "kernelspec": {
   "display_name": "Python 3",
   "language": "python",
   "name": "python3"
  },
  "language_info": {
   "codemirror_mode": {
    "name": "ipython",
    "version": 3
   },
   "file_extension": ".py",
   "mimetype": "text/x-python",
   "name": "python",
   "nbconvert_exporter": "python",
   "pygments_lexer": "ipython3",
   "version": "3.6.5"
  }
 },
 "nbformat": 4,
 "nbformat_minor": 2
}
