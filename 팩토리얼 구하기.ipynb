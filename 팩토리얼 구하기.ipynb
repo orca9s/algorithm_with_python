{
 "cells": [
  {
   "cell_type": "code",
   "execution_count": 2,
   "metadata": {},
   "outputs": [
    {
     "name": "stdout",
     "output_type": "stream",
     "text": [
      "1\n",
      "120\n",
      "3628800\n"
     ]
    }
   ],
   "source": [
    "# 연속한 숫자의 곱을 구하는 알고리즘\n",
    "# 입력: n\n",
    "# 출력: 1부터 n까지 연속한 숫자를 곱한 값\n",
    "\n",
    "def fact(n):\n",
    "    f = 1 # 곱을 계산할 변수, 초깃값은 1\n",
    "    for i in range(1, n+1): # 1부터 n까지 반복(n+1은 제외)\n",
    "        f = f * i # 곱셈 연산으로 수정\n",
    "    return f\n",
    "\n",
    "print(fact(1)) # 1! = 1\n",
    "print(fact(5)) # 5! = 120\n",
    "print(fact(10)) # 10! = 3628800"
   ]
  },
  {
   "cell_type": "code",
   "execution_count": 3,
   "metadata": {},
   "outputs": [
    {
     "name": "stdout",
     "output_type": "stream",
     "text": [
      "1\n",
      "120\n",
      "3628800\n"
     ]
    }
   ],
   "source": [
    "# 연속한 숫자의 곱을 구하는 알고리즘\n",
    "# 입력:n\n",
    "# 출력: 1부터 n까지 연속한 숫자를 곱한 값\n",
    "\n",
    "def fact(n):\n",
    "    if n <= 1:\n",
    "        return 1\n",
    "    return n * fact(n-1)\n",
    "print(fact(1))\n",
    "print(fact(5))\n",
    "print(fact(10))"
   ]
  },
  {
   "cell_type": "code",
   "execution_count": 20,
   "metadata": {},
   "outputs": [
    {
     "name": "stdout",
     "output_type": "stream",
     "text": [
      "3\n",
      "55\n",
      "5050\n"
     ]
    }
   ],
   "source": [
    "# 연속한 숫자의 합을 구하는 알고리즘 재귀 1\n",
    "def sum_n(n):\n",
    "    if n <= 1:\n",
    "        return 1\n",
    "    return n + sum_n(n-1)\n",
    "\n",
    "\n",
    "print(sum_n(2))\n",
    "print(sum_n(10))\n",
    "print(sum_n(100))"
   ]
  },
  {
   "cell_type": "code",
   "execution_count": 18,
   "metadata": {},
   "outputs": [
    {
     "name": "stdout",
     "output_type": "stream",
     "text": [
      "3\n",
      "55\n",
      "5050\n"
     ]
    }
   ],
   "source": [
    "# 연속한 숫자의 합을 구하는 알고리즘 재귀 2\n",
    "# 입력: n\n",
    "# 출력: 1부터 n까지 연속한 숫자를 더한 값\n",
    "\n",
    "def sum_n(n):\n",
    "    if n == 0:\n",
    "        return 0\n",
    "    return sum_n(n-1) + n\n",
    "\n",
    "print(sum_n(2))\n",
    "print(sum_n(10))\n",
    "print(sum_n(100))"
   ]
  },
  {
   "cell_type": "code",
   "execution_count": 16,
   "metadata": {},
   "outputs": [
    {
     "name": "stdout",
     "output_type": "stream",
     "text": [
      "92\n"
     ]
    }
   ],
   "source": [
    "# 최댓값 구하기\n",
    "# 입력: 숫자가 n개 들어 있는 리스트\n",
    "# 출력: 숫자 n개 중 최댓값\n",
    "\n",
    "def find_max(a, n): # 리스트 a의 앞부분 n개 중 최댓값을 구하는 재귀 함수\n",
    "    if n == 1:\n",
    "        return a[0]\n",
    "    max_n_1 = find_max(a, n-1) # n-1개 중 최댓값을 구함\n",
    "    if max_n_1 > a [n-1]: # n-1개 중 최댓값과 n-1번 위치 값을 비교\n",
    "        return max_n_1\n",
    "    else:\n",
    "        return a[n - 1]\n",
    "    \n",
    "v = [17, 92, 18, 33, 58, 7, 33, 42]\n",
    "print(find_max(v, len(v))) # 함수에 리스트의 자료 개수를 인자로 추가하여 호출"
   ]
  },
  {
   "cell_type": "code",
   "execution_count": null,
   "metadata": {},
   "outputs": [],
   "source": []
  }
 ],
 "metadata": {
  "kernelspec": {
   "display_name": "Python 3",
   "language": "python",
   "name": "python3"
  },
  "language_info": {
   "codemirror_mode": {
    "name": "ipython",
    "version": 3
   },
   "file_extension": ".py",
   "mimetype": "text/x-python",
   "name": "python",
   "nbconvert_exporter": "python",
   "pygments_lexer": "ipython3",
   "version": "3.6.5"
  }
 },
 "nbformat": 4,
 "nbformat_minor": 2
}
