{
 "cells": [
  {
   "cell_type": "code",
   "execution_count": 7,
   "metadata": {
    "scrolled": true
   },
   "outputs": [
    {
     "name": "stdout",
     "output_type": "stream",
     "text": [
      "n=1\n",
      "1 -> 3\n",
      "n=2\n",
      "1 -> 2\n",
      "1 -> 3\n",
      "2 -> 3\n",
      "n=3\n",
      "1 -> 3\n",
      "1 -> 2\n",
      "3 -> 2\n",
      "1 -> 3\n",
      "2 -> 1\n",
      "2 -> 3\n",
      "1 -> 3\n",
      "n=4\n",
      "1 -> 2\n",
      "1 -> 3\n",
      "2 -> 3\n",
      "1 -> 2\n",
      "3 -> 1\n",
      "3 -> 2\n",
      "1 -> 2\n",
      "1 -> 3\n",
      "2 -> 3\n",
      "2 -> 1\n",
      "3 -> 1\n",
      "2 -> 3\n",
      "1 -> 2\n",
      "1 -> 3\n",
      "2 -> 3\n"
     ]
    }
   ],
   "source": [
    "# 하노이의 탑\n",
    "# 입력: 옮기려는 원반의 개수 n\n",
    "#     옮길 원반이 현재 있는 출발점 기둥 from_pos\n",
    "#     원반을 옮길 독착점 기둥 to_pos\n",
    "#     옮기는 과정에서 사용할 보조 기둥 aux_pos\n",
    "# 출력: 원반을 옮기는 순서\n",
    "\n",
    "def hanoi(n, from_pos, to_pos, aux_pos):\n",
    "    if n == 1:\n",
    "        print(from_pos, '->', to_pos)\n",
    "        return\n",
    "    \n",
    "    # 원반 n-1개를 aux_pos로 이동(to_pos를 보조 기둥으로)\n",
    "    hanoi(n-1, from_pos, aux_pos, to_pos)\n",
    "    # 가장 큰 원반을 목적지로 이동\n",
    "    print(from_pos, '->', to_pos)\n",
    "    # aux_post에 있는 원반 n-1개를 목적지로 이동(from_pos를 보조 기둥으로)\n",
    "    hanoi(n-1, aux_pos, to_pos, from_pos)\n",
    "print('n=1')\n",
    "hanoi(1, 1, 3, 2)\n",
    "print('n=2')\n",
    "hanoi(2, 1, 3, 2)\n",
    "print('n=3')\n",
    "hanoi(3, 1, 3, 2)\n",
    "print('n=4')\n",
    "hanoi(4, 1, 3, 2)"
   ]
  },
  {
   "cell_type": "code",
   "execution_count": 1,
   "metadata": {},
   "outputs": [],
   "source": [
    "# import turtle as t\n",
    "\n",
    "# def spiral(sp_len):\n",
    "#     if sp_len <= 5:\n",
    "#         return\n",
    "#     t.forward(sp_len)\n",
    "#     t.right(90)\n",
    "#     spiral(sp_len -5)\n",
    "    \n",
    "# t.speed(0)\n",
    "# spiral(200)\n",
    "# t.hideturtle\n",
    "# t.done()"
   ]
  },
  {
   "cell_type": "code",
   "execution_count": null,
   "metadata": {},
   "outputs": [],
   "source": []
  }
 ],
 "metadata": {
  "kernelspec": {
   "display_name": "Python 3",
   "language": "python",
   "name": "python3"
  },
  "language_info": {
   "codemirror_mode": {
    "name": "ipython",
    "version": 3
   },
   "file_extension": ".py",
   "mimetype": "text/x-python",
   "name": "python",
   "nbconvert_exporter": "python",
   "pygments_lexer": "ipython3",
   "version": "3.6.5"
  }
 },
 "nbformat": 4,
 "nbformat_minor": 2
}
