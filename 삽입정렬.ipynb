{
 "cells": [
  {
   "cell_type": "code",
   "execution_count": null,
   "metadata": {},
   "outputs": [],
   "source": [
    "# 쉽게 설명한 삽입정렬\n",
    "# 입력: 리스트 a\n",
    "# 출력: 정렬된 새 리스트\n",
    "\n",
    "# 리스트 r에서 v가 들어가야 할 위치를 돌려주는 함수\n",
    "\n",
    "def find_ins_idx(r, v):\n",
    "    # 이미 정렬된 리스트 r의 자료를 앞에서부터 차례로 확인하여\n",
    "    for i in range(0, len(r)):\n",
    "        # v값보다 i번 위치에 있는 자료 값이 크면\n",
    "        # v가 그 값 바로 앞에 놓여야 정렬 순서가 유지됨\n",
    "        if v < r[i]:\n",
    "            return i\n",
    "        # 적절한 위치를 못 찾았을 때는\n",
    "        # v가 r의 모든 자료보다 크다는 뜻이므로 맨 뒤에 삽입\n",
    "    return len(r)\n",
    "\n",
    "def ins_sort(a):\n",
    "    result = []\n",
    "    while a:\n",
    "        value = a.pop(0)\n",
    "        ins_idx = find_ins_idx(result, value)\n",
    "        result.insert(ins)"
   ]
  }
 ],
 "metadata": {
  "kernelspec": {
   "display_name": "Python 3",
   "language": "python",
   "name": "python3"
  },
  "language_info": {
   "codemirror_mode": {
    "name": "ipython",
    "version": 3
   },
   "file_extension": ".py",
   "mimetype": "text/x-python",
   "name": "python",
   "nbconvert_exporter": "python",
   "pygments_lexer": "ipython3",
   "version": "3.6.5"
  }
 },
 "nbformat": 4,
 "nbformat_minor": 2
}
