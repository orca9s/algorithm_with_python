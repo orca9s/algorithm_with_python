{
 "cells": [
  {
   "cell_type": "code",
   "execution_count": 1,
   "metadata": {},
   "outputs": [
    {
     "name": "stdout",
     "output_type": "stream",
     "text": [
      "[1, 2, 3, 4, 5, 6, 7, 8, 9, 10]\n"
     ]
    }
   ],
   "source": [
    "# 쉽게 설명한 병합 정렬\n",
    "# 입력: 리스트 a\n",
    "# 출력: 정렬된 새 리스트\n",
    "\n",
    "def merge_sort(a):\n",
    "    n = len(a)\n",
    "    # 종료 조건: 정렬할 리스트의 자료 개수가 한 개 이하이면 정렬할 필요 없음\n",
    "    if n <= 1:\n",
    "        return a\n",
    "    # 그룹을 나누어 각각 병합 정렬을 호출하는 과정\n",
    "    mid = n // 2 # 중간을 기준으로 두 그룹으로 나눔\n",
    "    g1 = merge_sort(a[:mid]) # 재귀 호출로 첫 번째 그룹을 정렬\n",
    "    g2 = merge_sort(a[mid:]) # 재귀 호출로 두 번째 그룹을 정렬\n",
    "    # 두 그룹을 하나로 병합\n",
    "    result = []\n",
    "    while g1 and g2:\n",
    "        if g1[0] < g2[0]:\n",
    "            # g1 값이 더 작으면 그 값을 빼내어 결과로 추가\n",
    "            result.append(g1.pop(0))\n",
    "        else:\n",
    "            # g2 값이 더 작으면 그 값을 빼내어 결과로 추가\n",
    "            result.append(g2.pop(0))\n",
    "    # 아직 남아 있는 자료들을 결과에 추가\n",
    "    # g1과 g2중 이미 빈 것은 while을 바로 지나감\n",
    "    while g1:\n",
    "        result.append(g1.pop(0))\n",
    "    while g2:\n",
    "        result.append(g2.pop(0))\n",
    "    return result\n",
    "\n",
    "d = [6, 8, 3, 9, 10, 1, 2, 4, 7, 5]\n",
    "print(merge_sort(d))"
   ]
  },
  {
   "cell_type": "code",
   "execution_count": 2,
   "metadata": {},
   "outputs": [
    {
     "name": "stdout",
     "output_type": "stream",
     "text": [
      "[1, 2, 3, 4, 5, 6, 7, 8, 9, 10]\n"
     ]
    }
   ],
   "source": [
    "# 병합 정렬\n",
    "# 입력: 리스트 a\n",
    "# 출력: 없음(입력으로 주어진 a가 정렬됨)\n",
    "\n",
    "def merge_sort(a):\n",
    "    n = len(a)\n",
    "    # 종료 조건: 정렬한 리스트의 자료 개수가 한 개 이하이면 정렬할 필요가 없음\n",
    "    if n <= 1:\n",
    "        return\n",
    "    # 그룹을 나누어 각각 병합 정렬을 호출하는 과정\n",
    "    mid = n // 2 # 중간을 기준으로 두 그룹으로 나눔\n",
    "    g1 = a[:mid]\n",
    "    g2 = a[mid:]\n",
    "    merge_sort(g1) # 재귀 호출로 첫 번째 그룹을 정렬\n",
    "    merge_sort(g2) # 재귀 호출로 두 번째 그룹을 정렬\n",
    "    # 두 그룹을 하나로 병합\n",
    "    i1 = 0\n",
    "    i2 = 0\n",
    "    ia = 0\n",
    "    while i1 < len(g1) and i2 < len(g2):\n",
    "        if g1[i1] < g2[i2]:\n",
    "            a[ia] = g1[i1]\n",
    "            i1 += 1\n",
    "            ia += 1\n",
    "        else:\n",
    "            a[ia] = g2[i2]\n",
    "            i2 += 1\n",
    "            ia += 1\n",
    "    # 아직 남아 있는 자료들을 결과에 추가\n",
    "    while i1 < len(g1):\n",
    "        a[ia] = g1[i1]\n",
    "        i1 += 1\n",
    "        ia += 1\n",
    "    while i2 < len(g2):\n",
    "        a[ia] = g2[i2]\n",
    "        i2 += 1\n",
    "        ia += 1\n",
    "        \n",
    "d = [6, 8, 3, 9, 10, 1, 2, 4, 7, 5]\n",
    "merge_sort(d)\n",
    "print(d)"
   ]
  },
  {
   "cell_type": "code",
   "execution_count": null,
   "metadata": {},
   "outputs": [],
   "source": []
  }
 ],
 "metadata": {
  "kernelspec": {
   "display_name": "Python 3",
   "language": "python",
   "name": "python3"
  },
  "language_info": {
   "codemirror_mode": {
    "name": "ipython",
    "version": 3
   },
   "file_extension": ".py",
   "mimetype": "text/x-python",
   "name": "python",
   "nbconvert_exporter": "python",
   "pygments_lexer": "ipython3",
   "version": "3.6.5"
  }
 },
 "nbformat": 4,
 "nbformat_minor": 2
}
