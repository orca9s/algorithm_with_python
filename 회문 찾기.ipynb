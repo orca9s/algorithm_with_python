{
 "cells": [
  {
   "cell_type": "code",
   "execution_count": 1,
   "metadata": {},
   "outputs": [
    {
     "name": "stdout",
     "output_type": "stream",
     "text": [
      "True\n",
      "True\n",
      "True\n"
     ]
    }
   ],
   "source": [
    "# 주어진 문장이 회문인지 아닌지 찾기(큐와 스택의 특징을 이용)\n",
    "# 입력: 문자열 s\n",
    "# 출력: 회문이면 True, 아니면 False\n",
    "\n",
    "def palindrome(s):\n",
    "    # 큐와 스택을 리스트로 정의\n",
    "    qu = []\n",
    "    st = []\n",
    "    # 1단계: 문자열의 알파벳 문자를 각각 큐와 스택에 넣음\n",
    "    for x in s:\n",
    "        # 해당 문자가 알파벳이면(공백, 숫자, 특수문자가 아니면)\n",
    "        # 큐와 스택에 각각 그 문자를 추가\n",
    "        if x.isalpha():\n",
    "            qu.append(x.lower())\n",
    "            st.append(x.lower())\n",
    "        # 2단계: 큐와 스택에 들어 있는 문자를 꺼내면서 비교\n",
    "        while qu: # 큐에 문자가 남아 있는 동안 반복\n",
    "            if qu.pop(0) != st.pop(): # 큐와 스택에서 꺼낸 문자가 다르면 회문이 아님\n",
    "                return False\n",
    "    return True\n",
    "\n",
    "print(palindrome('Wow'))\n",
    "print(palindrome(\"Madam, I'm Adam.\"))\n",
    "print(palindrome('Madam, I am Adam.'))"
   ]
  },
  {
   "cell_type": "code",
   "execution_count": null,
   "metadata": {},
   "outputs": [],
   "source": []
  }
 ],
 "metadata": {
  "kernelspec": {
   "display_name": "Python 3",
   "language": "python",
   "name": "python3"
  },
  "language_info": {
   "codemirror_mode": {
    "name": "ipython",
    "version": 3
   },
   "file_extension": ".py",
   "mimetype": "text/x-python",
   "name": "python",
   "nbconvert_exporter": "python",
   "pygments_lexer": "ipython3",
   "version": "3.6.5"
  }
 },
 "nbformat": 4,
 "nbformat_minor": 2
}
